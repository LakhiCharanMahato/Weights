{
  "nbformat": 4,
  "nbformat_minor": 0,
  "metadata": {
    "colab": {
      "name": "Convert.ipynb",
      "provenance": [],
      "collapsed_sections": [],
      "authorship_tag": "ABX9TyPKOP0qvN7938auBJXKZRmN"
    },
    "kernelspec": {
      "name": "python3",
      "display_name": "Python 3"
    }
  },
  "cells": [
    {
      "cell_type": "code",
      "metadata": {
        "id": "w6nq605lDBRp"
      },
      "source": [
        "import tensorflow as tf\r\n",
        "import h5py\r\n",
        "\r\n",
        "\r\n",
        "# Load TFLite model and allocate tensors.\r\n",
        "interpreter = tf.lite.Interpreter(model_path=\"mobilefacenet.tflite\")\r\n",
        "interpreter.allocate_tensors()\r\n",
        "\r\n",
        "# Get input and output tensors.\r\n",
        "input_details = interpreter.get_input_details()\r\n",
        "output_details = interpreter.get_output_details()\r\n",
        "\r\n",
        "\r\n",
        "# get details for each layer\r\n",
        "all_layers_details = interpreter.get_tensor_details() \r\n",
        "\r\n",
        "\r\n",
        "f = h5py.File(\"mobilenet_v3_weights_infos.hdf5\", \"w\")   \r\n",
        "\r\n",
        "for layer in all_layers_details:\r\n",
        "     # to create a group in an hdf5 file\r\n",
        "     grp = f.create_group(str(layer['index']))\r\n",
        "\r\n",
        "     # to store layer's metadata in group's metadata\r\n",
        "     grp.attrs[\"name\"] = layer['name']\r\n",
        "     grp.attrs[\"shape\"] = layer['shape']\r\n",
        "     # grp.attrs[\"dtype\"] = all_layers_details[i]['dtype']\r\n",
        "     grp.attrs[\"quantization\"] = layer['quantization']\r\n",
        "\r\n",
        "     # to store the weights in a dataset\r\n",
        "     grp.create_dataset(\"weights\", data=interpreter.get_tensor(layer['index']))\r\n",
        "\r\n",
        "\r\n",
        "f.close()"
      ],
      "execution_count": 3,
      "outputs": []
    }
  ]
}